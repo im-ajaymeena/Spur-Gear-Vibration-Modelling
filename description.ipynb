{
 "cells": [
  {
   "attachments": {},
   "cell_type": "markdown",
   "metadata": {},
   "source": [
    "##### The objective of this project was to develop a simulation for vibration signals in spur-gear mechanics. This simulation modeling serves as a valuable tool for generating synthetic data, which can be instrumental in detecting anomalies within real vibration signals, enabling proactive predictive maintenance to prevent damage."
   ]
  },
  {
   "attachments": {},
   "cell_type": "markdown",
   "metadata": {},
   "source": [
    "##### For modeling the following equations are constructed from two papaers:\n",
    "1. https://pure.hud.ac.uk/ws/portalfiles/portal/38979035/Revised_MSSP21_350_Bearing_clearance_monitoring.pdf\n",
    "2. https://www.mdpi.com/2075-4442/10/1/9"
   ]
  },
  {
   "attachments": {},
   "cell_type": "markdown",
   "metadata": {},
   "source": [
    "\n",
    "\\begin{aligned}\n",
    "& M_s \\ddot{X}_s+C_s\\left(\\dot{X}_p-\\dot{X}_s\\right)+K_s\\left(X_p-X_s\\right)+\\sum_{i=1}^{N_b} K_{sb}\\left[\\delta_{i}\\right]^{3 / 2} (\\cos \\phi_{i}+\\mu_{sb}\\sin\\phi_{i}) +\\sum_{i=1}^{N_b} C_{sb}\\left[v_{i}\\right] \\cos \\phi_{i}=\\left(F_m \\cos \\alpha\\right) / 2, \\\\\\\\\n",
    "& M_s \\ddot{Y}_s+C_s\\left(\\dot{Y}_p-\\dot{Y}_s\\right)+K_s\\left(Y_p-Y_{s}\\right)+\\sum_{i=1}^{N_b} K_{sb}\\left[\\delta_{i}\\right]^{3 / 2} (\\sin \\phi_{i}-\\mu_{sb}\\cos\\phi_{i})+\\sum_{i=1}^{N_b} C_{sb}\\left[v_{i}\\right] \\sin \\phi_{i}=\\left(-F_m \\sin \\alpha\\right) / 2,\n",
    "\\\\\\\\\n",
    "\n",
    "& M_h \\ddot{X}_h+C_h \\dot{X}_h+K_h X_{h}-\\sum_{i=1}^{N_b} K_{hb}\\left[\\delta_{i}\\right]^{3 / 2} (\\cos \\phi_{i}+\\mu_{sb}\\sin\\phi_{i})-\\sum_{i=1}^{N_b} C_{hb}\\left[v_{i}\\right] \\cos \\phi_{i}=0, \\\\\\\\\n",
    "& M_h \\ddot{Y}_h+C_h \\dot{Y}_h+K_h Y_h-\\sum_{i=1}^{N_b} K_{hb}\\left[\\delta_{i}\\right]^{3 / 2} (\\sin \\phi_{i}+\\mu_{sb}\\cos\\phi_{i})-\\sum_{i=1}^{N_b} C_{hb}\\left[v_{i}\\right] \\sin \\phi_{i}=0,\n",
    "\n",
    "\\\\\\\\\n",
    "\n",
    "& M_p \\ddot{X}_p=F_m \\cos \\alpha-K_s\\left(X_p-X_{s}\\right)-C_s\\left(\\dot{X}_p-\\dot{X}_{s}\\right), \\\\\\\\\n",
    "& M_p \\ddot{Y}_p=-F_m \\sin \\alpha-K_s\\left(Y_p-Y_{s}\\right)-C_s\\left(\\dot{Y}_p-Y_{s}\\right), \\\\\\\\\n",
    "\n",
    "\n",
    "& \\delta_i=\\left\\{\\begin{array}{cc}\n",
    "\\left(X_s-X_h\\right) \\cos \\phi_i+\\left(Y_s-Y_h\\right) \\sin \\phi_i-c / 2 \\times\\left(1-\\cos \\phi_i\\right) & \\delta_{b}>0, \\\\\\\\\n",
    "0 & \\delta_{b} \\leq 0,\n",
    "\\end{array}\\right. \\\\\\\\\n",
    "& v_i=\\left\\{\\begin{array}{cc}\n",
    "\\left(X_s-X_h\\right) \\cos \\phi_i+\\left(X_s-X_h\\right) \\sin \\phi_i & \\delta_{b}>0, \\\\\\\\\n",
    "0 & \\delta_{b} \\leq 0 .\n",
    "\\end{array}\\right.\n",
    "\n",
    "\\\\\\\\\n",
    "& \\sum_{i=1}^{N_b} Fc_{i} = 0,\n",
    "\n",
    "\\\\\\\\\n",
    "\n",
    "&  \\left(  \n",
    "K_{sb}\\left[\\delta_{i}\\right]^{3 / 2} - K_{hb}\\left[\\delta_{i}\\right]^{3 / 2} - C_{i} + M_{b}g\\cos \\phi_{i} = 0  \n",
    ", \\quad\n",
    "K_{sb}\\left[\\delta_{i}\\right]^{3 / 2}\\mu_{sb} - K_{hb}\\left[\\delta_{i}\\right]^{3 / 2}\\mu_{hb} - Fc_{i} + M_{b}g\\sin \\phi_{i} = 0 \n",
    "\\\\\\\\\n",
    "\\right) \\quad \\forall \\quad 1 \\leq i \\leq N_{b}\n",
    "\n",
    "\\\\\\\\\n",
    "\n",
    "& \\phi_{i} =\\omega t + 2\\pi/N_{b} (i-1)\n",
    "\n",
    "\n",
    "\\end{aligned}\n"
   ]
  },
  {
   "attachments": {},
   "cell_type": "markdown",
   "metadata": {},
   "source": [
    "##### Brief descriptions for variables/parameters:\n",
    "\n",
    "##### \n",
    "\n",
    "\\begin{align*}\n",
    "X_s, Y_s, X_h, Y_h, X_p, Y_p:  && &\\text{are variables, while the others are parameters} \\\\\n",
    "M_s :  && &\\text{Mass of shaft}\\\\\n",
    "M_h :  && &\\text{Mass of housing}\\\\\n",
    "\\\\\n",
    "X_{s1} :  && &\\text{displacement of shaft 1 in x direction}\\\\ \n",
    "Y_{s1} :  && &\\text{displacement of shaft 1 in y direction}\\\\ \n",
    "X_{s2} :  && &\\text{displacement of shaft 2 in x direction}\\\\ \n",
    "Y_{s2} :  && &\\text{displacement of shaft 2 in y direction}\\\\\n",
    "\\\\\n",
    "X_{h1} :  && &\\text{displacement of housing near shaft 1 in x direction}\\\\ \n",
    "Y_{h1} :  && &\\text{displacement of housing near shaft 1 in y direction}\\\\ \n",
    "X_{h2} :  && &\\text{displacement of housing near shaft 2 in x direction}\\\\ \n",
    "Y_{h2} :  && &\\text{displacement of housing near shaft 2 in y direction}\\\\ \n",
    "\\\\\n",
    "N_b :  && &\\text{Number of balls in bearing}\\\\\n",
    "K_{sb} :  && &\\text{deformation constant between shaft and bearing}\\\\\n",
    "K_{hb} :  && &\\text{deformation constant between housing and bearing}\\\\\n",
    "\\end{align*}\n",
    "\n"
   ]
  },
  {
   "attachments": {},
   "cell_type": "markdown",
   "metadata": {},
   "source": []
  }
 ],
 "metadata": {
  "language_info": {
   "name": "python"
  },
  "orig_nbformat": 4
 },
 "nbformat": 4,
 "nbformat_minor": 2
}
